{
 "cells": [
  {
   "cell_type": "code",
   "execution_count": 3,
   "id": "14b012e0",
   "metadata": {},
   "outputs": [
    {
     "name": "stdout",
     "output_type": "stream",
     "text": [
      "/home/avani.gupta/bpirl2\n"
     ]
    }
   ],
   "source": [
    "cd .."
   ]
  },
  {
   "cell_type": "code",
   "execution_count": 4,
   "id": "c7659363",
   "metadata": {},
   "outputs": [],
   "source": [
    "from utils import calc_third_quartile, get_unique_act, get_compliant_cases \n",
    "import numpy as np\n",
    "import os\n",
    "import pickle\n",
    "import pandas as pd\n",
    "import random\n",
    "from statistics import mean, median"
   ]
  },
  {
   "cell_type": "code",
   "execution_count": 4,
   "id": "fb833c13",
   "metadata": {},
   "outputs": [],
   "source": [
    "dataset = \"helpdesk\"\n",
    "df2 = pd.read_pickle('dataset/preprocessed/'+dataset+'_design_mat.pkl')"
   ]
  },
  {
   "cell_type": "code",
   "execution_count": 5,
   "id": "e97006f0",
   "metadata": {},
   "outputs": [],
   "source": [
    "graphs = {}\n",
    "graph = {}\n",
    "graph[-1] = {1:3644, 3:108,-1:100}\n",
    "graph[0] = {1:3644, 3:108,0:100}  #end of process instance 1, start of instance 2\n",
    "graph[3] = {1:105}\n",
    "graph[1] = {8:3483,1:394}\n",
    "graph[8] = {2:42, 9:851, 6:4150,4:9, 7:4} #edges:weights\n",
    "graph[2] = {5:3, 6:37}\n",
    "graph[9] = {6:382,8:4270}\n",
    "graph[4] = {6:8}\n",
    "graph[7] = {6:3}\n",
    "graph[5] = {6:4}\n",
    "graph[6] = {0:3804} #end\n",
    "graphs['helpdesk'] = graph"
   ]
  },
  {
   "cell_type": "code",
   "execution_count": 6,
   "id": "ed4a0172",
   "metadata": {},
   "outputs": [],
   "source": [
    "# Python program to print all paths from a source to destination.\n",
    "  \n",
    "from collections import defaultdict\n",
    "  \n",
    "# This class represents a directed graph\n",
    "# using adjacency list representation\n",
    "class Graph:\n",
    "  \n",
    "    def __init__(self, vertices):\n",
    "        # No. of vertices\n",
    "        self.V = vertices\n",
    "         \n",
    "        # default dictionary to store graph\n",
    "        self.graph = defaultdict(list)\n",
    "  \n",
    "    # function to add an edge to graph\n",
    "    def addEdge(self, u, v):\n",
    "        self.graph[u].append(v)\n",
    "  \n",
    "    '''A recursive function to print all paths from 'u' to 'd'.\n",
    "    visited[] keeps track of vertices in current path.\n",
    "    path[] stores actual vertices and path_index is current\n",
    "    index in path[]'''\n",
    "    def printAllPathsUtil(self, u, d, visited, path):\n",
    " \n",
    "        # Mark the current node as visited and store in path\n",
    "        visited[u]= True\n",
    "        path.append(u)\n",
    " \n",
    "        # If current vertex is same as destination, then print\n",
    "        # current path[]\n",
    "        if u == d:\n",
    "            print(path)\n",
    "        else:\n",
    "            # If current vertex is not destination\n",
    "            # Recur for all the vertices adjacent to this vertex\n",
    "            for i in self.graph[u]:\n",
    "                if visited[i]== False:\n",
    "                    self.printAllPathsUtil(i, d, visited, path)\n",
    "                     \n",
    "        # Remove current vertex from path[] and mark it as unvisited\n",
    "        path.pop()\n",
    "        visited[u]= False\n",
    "  \n",
    "  \n",
    "    # Prints all paths from 's' to 'd'\n",
    "    def printAllPaths(self, s, d):\n",
    " \n",
    "        # Mark all the vertices as not visited\n",
    "        visited =[False]*(self.V)\n",
    " \n",
    "        # Create an array to store paths\n",
    "        path = []\n",
    " \n",
    "        # Call the recursive helper function to print all paths\n",
    "        self.printAllPathsUtil(s, d, visited, path)\n",
    "  \n"
   ]
  },
  {
   "cell_type": "code",
   "execution_count": 7,
   "id": "ae6f4a33",
   "metadata": {},
   "outputs": [],
   "source": [
    "g = Graph(10)\n",
    "for gg in graph:\n",
    "    for dest in graph[gg]:\n",
    "        g.addEdge(gg,dest)"
   ]
  },
  {
   "cell_type": "code",
   "execution_count": 8,
   "id": "10df1cd7",
   "metadata": {},
   "outputs": [
    {
     "name": "stdout",
     "output_type": "stream",
     "text": [
      "Following are all different paths from -1 to  0 :\n",
      "[-1, 1, 8, 2, 5, 6, 0]\n",
      "[-1, 1, 8, 2, 6, 0]\n",
      "[-1, 1, 8, 6, 0]\n",
      "[-1, 1, 8, 4, 6, 0]\n",
      "[-1, 1, 8, 7, 6, 0]\n",
      "[-1, 3, 1, 8, 2, 5, 6, 0]\n",
      "[-1, 3, 1, 8, 2, 6, 0]\n",
      "[-1, 3, 1, 8, 6, 0]\n",
      "[-1, 3, 1, 8, 4, 6, 0]\n",
      "[-1, 3, 1, 8, 7, 6, 0]\n"
     ]
    }
   ],
   "source": [
    "s = -1\n",
    "d = 0\n",
    "print (\"Following are all different paths from % d to % d :\" %(s, d))\n",
    "\n",
    "g.printAllPaths(s, d)"
   ]
  },
  {
   "cell_type": "code",
   "execution_count": 10,
   "id": "7825797b",
   "metadata": {},
   "outputs": [],
   "source": [
    "paths = [[-1, 1, 8, 2, 5, 6, 0],\n",
    "[-1, 1, 8, 2, 6, 0],\n",
    "[-1, 1, 8, 6, 0],\n",
    "[-1, 1, 8, 4, 6, 0],\n",
    "[-1, 1, 8, 7, 6, 0],\n",
    "[-1, 3, 1, 8, 2, 5, 6, 0],\n",
    "[-1, 3, 1, 8, 2, 6, 0],\n",
    "[-1, 3, 1, 8, 6, 0],\n",
    "[-1, 3, 1, 8, 4, 6, 0],\n",
    "[-1, 3, 1, 8, 7, 6, 0]]"
   ]
  },
  {
   "cell_type": "code",
   "execution_count": 18,
   "id": "aa080898",
   "metadata": {},
   "outputs": [],
   "source": [
    "gs_lis = [[1, 8, 6], [3, 1, 8, 6]]"
   ]
  },
  {
   "cell_type": "code",
   "execution_count": 19,
   "id": "114fc9a9",
   "metadata": {},
   "outputs": [],
   "source": [
    "# get process flow compliance cases only\n",
    "df = get_compliant_cases(df2,dset=dataset)"
   ]
  },
  {
   "cell_type": "code",
   "execution_count": 21,
   "id": "7936eb56",
   "metadata": {},
   "outputs": [
    {
     "name": "stdout",
     "output_type": "stream",
     "text": [
      "yes\n"
     ]
    }
   ],
   "source": [
    "if [1, 8, 6] in gs_lis:\n",
    "    print(\"yes\")"
   ]
  },
  {
   "cell_type": "code",
   "execution_count": 25,
   "id": "15fe25e6",
   "metadata": {},
   "outputs": [],
   "source": [
    "cases_sat = []\n",
    "dat_group = df.groupby(\"CaseID\")\n",
    "for name, gr in dat_group:\n",
    "    act = list(gr['class'])\n",
    "    if act in gs_lis:\n",
    "        cases_sat.append(name)"
   ]
  },
  {
   "cell_type": "code",
   "execution_count": 27,
   "id": "523c6ce5",
   "metadata": {},
   "outputs": [
    {
     "data": {
      "text/plain": [
       "2243"
      ]
     },
     "execution_count": 27,
     "metadata": {},
     "output_type": "execute_result"
    }
   ],
   "source": [
    "len(cases_sat)"
   ]
  },
  {
   "cell_type": "code",
   "execution_count": 31,
   "id": "5c1a28bf",
   "metadata": {},
   "outputs": [
    {
     "data": {
      "text/plain": [
       "0.7107097591888466"
      ]
     },
     "execution_count": 31,
     "metadata": {},
     "output_type": "execute_result"
    }
   ],
   "source": [
    "len(cases_sat)/len(dat_group)"
   ]
  },
  {
   "cell_type": "code",
   "execution_count": 36,
   "id": "ecc9cdc1",
   "metadata": {},
   "outputs": [],
   "source": [
    "df = df.loc[df['CaseID'].isin(cases_sat)]"
   ]
  },
  {
   "cell_type": "code",
   "execution_count": 37,
   "id": "609db96e",
   "metadata": {},
   "outputs": [],
   "source": [
    "dat_group = df.groupby(\"CaseID\")\n",
    "\n",
    "total_iter = len(dat_group.ngroup())\n",
    "case_duration_dic = {}\n",
    "for name, gr in dat_group:\n",
    "    case_duration_dic[name] = gr['duration_time'].sum()  "
   ]
  },
  {
   "cell_type": "code",
   "execution_count": 38,
   "id": "89c79e2f",
   "metadata": {},
   "outputs": [
    {
     "data": {
      "text/plain": [
       "46.7043287037037"
      ]
     },
     "execution_count": 38,
     "metadata": {},
     "output_type": "execute_result"
    }
   ],
   "source": [
    "max(df['duration_time'])"
   ]
  },
  {
   "cell_type": "code",
   "execution_count": 39,
   "id": "77eac72c",
   "metadata": {},
   "outputs": [
    {
     "data": {
      "text/plain": [
       "5.984576341416093"
      ]
     },
     "execution_count": 39,
     "metadata": {},
     "output_type": "execute_result"
    }
   ],
   "source": [
    "mean(case_duration_dic.values())"
   ]
  },
  {
   "cell_type": "code",
   "execution_count": 44,
   "id": "7756711b",
   "metadata": {},
   "outputs": [],
   "source": [
    "# # quartile calculation\n",
    "# import statistics\n",
    "# def calc_third_quartile(lis):\n",
    "#     lis.sort()\n",
    "#     size = len(lis)\n",
    "#     lis_upper_half = lis[size//2:-1]\n",
    "#     third_quartile = statistics.median(lis_upper_half)\n",
    "#     return third_quartile\n",
    "\n",
    "# case_durations = list(case_duration_dic.values())\n",
    "# third_quartile  = calc_third_quartile(case_durations)"
   ]
  },
  {
   "cell_type": "code",
   "execution_count": 45,
   "id": "29796fe5",
   "metadata": {},
   "outputs": [],
   "source": [
    "third_quartile = 13.90056712962963"
   ]
  },
  {
   "cell_type": "code",
   "execution_count": 46,
   "id": "d31e3b0d",
   "metadata": {},
   "outputs": [],
   "source": [
    "cases_gs = []\n",
    "cases_gv = []\n",
    "for k,v in case_duration_dic.items():\n",
    "    if v <= third_quartile:\n",
    "        cases_gs.append(k)\n",
    "    else:\n",
    "        cases_gv.append(k)"
   ]
  },
  {
   "cell_type": "code",
   "execution_count": 48,
   "id": "6e6ddcc0",
   "metadata": {},
   "outputs": [
    {
     "data": {
      "text/plain": [
       "(1894, 349)"
      ]
     },
     "execution_count": 48,
     "metadata": {},
     "output_type": "execute_result"
    }
   ],
   "source": [
    "len(cases_gs), len(cases_gv)"
   ]
  },
  {
   "cell_type": "code",
   "execution_count": 49,
   "id": "c9ec1502",
   "metadata": {},
   "outputs": [
    {
     "name": "stdout",
     "output_type": "stream",
     "text": [
      "0.8444048149799376\n"
     ]
    }
   ],
   "source": [
    "tot = len(cases_gs)+ len(cases_gv)\n",
    "percent_gs_cases = len(cases_gs) / tot\n",
    "print(percent_gs_cases)"
   ]
  },
  {
   "cell_type": "code",
   "execution_count": 50,
   "id": "3ed83f74",
   "metadata": {},
   "outputs": [],
   "source": [
    "cases_train = cases_gs\n",
    "cases_test = cases_gv\n",
    "data_train = df.loc[df['CaseID'].isin(cases_train)]\n",
    "data_test = df.loc[df['CaseID'].isin(cases_test)]"
   ]
  },
  {
   "cell_type": "code",
   "execution_count": 51,
   "id": "fdbc7d66",
   "metadata": {},
   "outputs": [],
   "source": [
    "a = get_unique_act(data_train)"
   ]
  },
  {
   "cell_type": "code",
   "execution_count": 52,
   "id": "3c11732c",
   "metadata": {},
   "outputs": [
    {
     "data": {
      "text/plain": [
       "5"
      ]
     },
     "execution_count": 52,
     "metadata": {},
     "output_type": "execute_result"
    }
   ],
   "source": [
    "len(a)"
   ]
  },
  {
   "cell_type": "code",
   "execution_count": 53,
   "id": "10db2959",
   "metadata": {},
   "outputs": [
    {
     "data": {
      "text/plain": [
       "5"
      ]
     },
     "execution_count": 53,
     "metadata": {},
     "output_type": "execute_result"
    }
   ],
   "source": [
    "tot = get_unique_act(df)\n",
    "len(tot)"
   ]
  },
  {
   "cell_type": "code",
   "execution_count": 54,
   "id": "97667ed9",
   "metadata": {},
   "outputs": [
    {
     "data": {
      "text/plain": [
       "[]"
      ]
     },
     "execution_count": 54,
     "metadata": {},
     "output_type": "execute_result"
    }
   ],
   "source": [
    "lis = []\n",
    "for act in tot:\n",
    "    if act not in a:\n",
    "        lis.append(act)\n",
    "lis   "
   ]
  },
  {
   "cell_type": "code",
   "execution_count": 55,
   "id": "25a0a0a8",
   "metadata": {},
   "outputs": [],
   "source": [
    "for act in lis:\n",
    "    df_sub = df[df[\"class\"] == act]\n",
    "    caseid_lis = list(df_sub[\"CaseID\"])\n",
    "    l = len(caseid_lis)\n",
    "    caseid_sel = caseid_lis[:l//2]\n",
    "    if len(caseid_sel) == 0:\n",
    "        caseid_sel = caseid_lis\n",
    "        \n",
    "    r = df.loc[df['CaseID'].isin(caseid_sel)]\n",
    "    data_train = data_train.append(r)\n"
   ]
  },
  {
   "cell_type": "code",
   "execution_count": 56,
   "id": "bea35efc",
   "metadata": {},
   "outputs": [
    {
     "data": {
      "text/html": [
       "<div>\n",
       "<style scoped>\n",
       "    .dataframe tbody tr th:only-of-type {\n",
       "        vertical-align: middle;\n",
       "    }\n",
       "\n",
       "    .dataframe tbody tr th {\n",
       "        vertical-align: top;\n",
       "    }\n",
       "\n",
       "    .dataframe thead th {\n",
       "        text-align: right;\n",
       "    }\n",
       "</style>\n",
       "<table border=\"1\" class=\"dataframe\">\n",
       "  <thead>\n",
       "    <tr style=\"text-align: right;\">\n",
       "      <th></th>\n",
       "      <th>0</th>\n",
       "      <th>1</th>\n",
       "      <th>2</th>\n",
       "      <th>3</th>\n",
       "      <th>4</th>\n",
       "      <th>5</th>\n",
       "      <th>6</th>\n",
       "      <th>7</th>\n",
       "      <th>8</th>\n",
       "      <th>9</th>\n",
       "      <th>duration_time</th>\n",
       "      <th>remaining_time</th>\n",
       "      <th>class</th>\n",
       "      <th>CaseID</th>\n",
       "    </tr>\n",
       "  </thead>\n",
       "  <tbody>\n",
       "    <tr>\n",
       "      <th>0</th>\n",
       "      <td>0</td>\n",
       "      <td>1</td>\n",
       "      <td>0</td>\n",
       "      <td>0</td>\n",
       "      <td>0</td>\n",
       "      <td>0</td>\n",
       "      <td>0</td>\n",
       "      <td>0</td>\n",
       "      <td>0</td>\n",
       "      <td>0</td>\n",
       "      <td>0.000000</td>\n",
       "      <td>2.014051</td>\n",
       "      <td>1</td>\n",
       "      <td>2</td>\n",
       "    </tr>\n",
       "    <tr>\n",
       "      <th>1</th>\n",
       "      <td>0</td>\n",
       "      <td>0</td>\n",
       "      <td>0</td>\n",
       "      <td>0</td>\n",
       "      <td>0</td>\n",
       "      <td>0</td>\n",
       "      <td>0</td>\n",
       "      <td>0</td>\n",
       "      <td>1</td>\n",
       "      <td>0</td>\n",
       "      <td>0.000174</td>\n",
       "      <td>2.013877</td>\n",
       "      <td>8</td>\n",
       "      <td>2</td>\n",
       "    </tr>\n",
       "    <tr>\n",
       "      <th>2</th>\n",
       "      <td>0</td>\n",
       "      <td>0</td>\n",
       "      <td>0</td>\n",
       "      <td>0</td>\n",
       "      <td>0</td>\n",
       "      <td>0</td>\n",
       "      <td>1</td>\n",
       "      <td>0</td>\n",
       "      <td>0</td>\n",
       "      <td>0</td>\n",
       "      <td>2.013877</td>\n",
       "      <td>0.000000</td>\n",
       "      <td>6</td>\n",
       "      <td>2</td>\n",
       "    </tr>\n",
       "    <tr>\n",
       "      <th>3</th>\n",
       "      <td>0</td>\n",
       "      <td>1</td>\n",
       "      <td>0</td>\n",
       "      <td>0</td>\n",
       "      <td>0</td>\n",
       "      <td>0</td>\n",
       "      <td>0</td>\n",
       "      <td>0</td>\n",
       "      <td>0</td>\n",
       "      <td>0</td>\n",
       "      <td>0.000000</td>\n",
       "      <td>5.296655</td>\n",
       "      <td>1</td>\n",
       "      <td>3</td>\n",
       "    </tr>\n",
       "    <tr>\n",
       "      <th>4</th>\n",
       "      <td>0</td>\n",
       "      <td>0</td>\n",
       "      <td>0</td>\n",
       "      <td>0</td>\n",
       "      <td>0</td>\n",
       "      <td>0</td>\n",
       "      <td>0</td>\n",
       "      <td>0</td>\n",
       "      <td>1</td>\n",
       "      <td>0</td>\n",
       "      <td>5.293113</td>\n",
       "      <td>0.003542</td>\n",
       "      <td>8</td>\n",
       "      <td>3</td>\n",
       "    </tr>\n",
       "    <tr>\n",
       "      <th>...</th>\n",
       "      <td>...</td>\n",
       "      <td>...</td>\n",
       "      <td>...</td>\n",
       "      <td>...</td>\n",
       "      <td>...</td>\n",
       "      <td>...</td>\n",
       "      <td>...</td>\n",
       "      <td>...</td>\n",
       "      <td>...</td>\n",
       "      <td>...</td>\n",
       "      <td>...</td>\n",
       "      <td>...</td>\n",
       "      <td>...</td>\n",
       "      <td>...</td>\n",
       "    </tr>\n",
       "    <tr>\n",
       "      <th>13697</th>\n",
       "      <td>0</td>\n",
       "      <td>0</td>\n",
       "      <td>0</td>\n",
       "      <td>0</td>\n",
       "      <td>0</td>\n",
       "      <td>0</td>\n",
       "      <td>0</td>\n",
       "      <td>0</td>\n",
       "      <td>1</td>\n",
       "      <td>0</td>\n",
       "      <td>0.000220</td>\n",
       "      <td>0.049086</td>\n",
       "      <td>8</td>\n",
       "      <td>4576</td>\n",
       "    </tr>\n",
       "    <tr>\n",
       "      <th>13698</th>\n",
       "      <td>0</td>\n",
       "      <td>0</td>\n",
       "      <td>0</td>\n",
       "      <td>0</td>\n",
       "      <td>0</td>\n",
       "      <td>0</td>\n",
       "      <td>1</td>\n",
       "      <td>0</td>\n",
       "      <td>0</td>\n",
       "      <td>0</td>\n",
       "      <td>0.049086</td>\n",
       "      <td>0.000000</td>\n",
       "      <td>6</td>\n",
       "      <td>4576</td>\n",
       "    </tr>\n",
       "    <tr>\n",
       "      <th>13704</th>\n",
       "      <td>0</td>\n",
       "      <td>1</td>\n",
       "      <td>0</td>\n",
       "      <td>0</td>\n",
       "      <td>0</td>\n",
       "      <td>0</td>\n",
       "      <td>0</td>\n",
       "      <td>0</td>\n",
       "      <td>0</td>\n",
       "      <td>0</td>\n",
       "      <td>0.000000</td>\n",
       "      <td>0.145556</td>\n",
       "      <td>1</td>\n",
       "      <td>4579</td>\n",
       "    </tr>\n",
       "    <tr>\n",
       "      <th>13705</th>\n",
       "      <td>0</td>\n",
       "      <td>0</td>\n",
       "      <td>0</td>\n",
       "      <td>0</td>\n",
       "      <td>0</td>\n",
       "      <td>0</td>\n",
       "      <td>0</td>\n",
       "      <td>0</td>\n",
       "      <td>1</td>\n",
       "      <td>0</td>\n",
       "      <td>0.145417</td>\n",
       "      <td>0.000139</td>\n",
       "      <td>8</td>\n",
       "      <td>4579</td>\n",
       "    </tr>\n",
       "    <tr>\n",
       "      <th>13706</th>\n",
       "      <td>0</td>\n",
       "      <td>0</td>\n",
       "      <td>0</td>\n",
       "      <td>0</td>\n",
       "      <td>0</td>\n",
       "      <td>0</td>\n",
       "      <td>1</td>\n",
       "      <td>0</td>\n",
       "      <td>0</td>\n",
       "      <td>0</td>\n",
       "      <td>0.000139</td>\n",
       "      <td>0.000000</td>\n",
       "      <td>6</td>\n",
       "      <td>4579</td>\n",
       "    </tr>\n",
       "  </tbody>\n",
       "</table>\n",
       "<p>5744 rows × 14 columns</p>\n",
       "</div>"
      ],
      "text/plain": [
       "       0  1  2  3  4  5  6  7  8  9  duration_time  remaining_time  class  \\\n",
       "0      0  1  0  0  0  0  0  0  0  0       0.000000        2.014051      1   \n",
       "1      0  0  0  0  0  0  0  0  1  0       0.000174        2.013877      8   \n",
       "2      0  0  0  0  0  0  1  0  0  0       2.013877        0.000000      6   \n",
       "3      0  1  0  0  0  0  0  0  0  0       0.000000        5.296655      1   \n",
       "4      0  0  0  0  0  0  0  0  1  0       5.293113        0.003542      8   \n",
       "...   .. .. .. .. .. .. .. .. .. ..            ...             ...    ...   \n",
       "13697  0  0  0  0  0  0  0  0  1  0       0.000220        0.049086      8   \n",
       "13698  0  0  0  0  0  0  1  0  0  0       0.049086        0.000000      6   \n",
       "13704  0  1  0  0  0  0  0  0  0  0       0.000000        0.145556      1   \n",
       "13705  0  0  0  0  0  0  0  0  1  0       0.145417        0.000139      8   \n",
       "13706  0  0  0  0  0  0  1  0  0  0       0.000139        0.000000      6   \n",
       "\n",
       "       CaseID  \n",
       "0           2  \n",
       "1           2  \n",
       "2           2  \n",
       "3           3  \n",
       "4           3  \n",
       "...       ...  \n",
       "13697    4576  \n",
       "13698    4576  \n",
       "13704    4579  \n",
       "13705    4579  \n",
       "13706    4579  \n",
       "\n",
       "[5744 rows x 14 columns]"
      ]
     },
     "execution_count": 56,
     "metadata": {},
     "output_type": "execute_result"
    }
   ],
   "source": [
    "data_train"
   ]
  },
  {
   "cell_type": "code",
   "execution_count": 57,
   "id": "55e63460",
   "metadata": {},
   "outputs": [
    {
     "data": {
      "text/plain": [
       "(5, 5)"
      ]
     },
     "execution_count": 57,
     "metadata": {},
     "output_type": "execute_result"
    }
   ],
   "source": [
    "len(get_unique_act(data_train)), len(get_unique_act(data_test))"
   ]
  },
  {
   "cell_type": "code",
   "execution_count": 59,
   "id": "c65d0317",
   "metadata": {},
   "outputs": [],
   "source": [
    "name = dataset+'_d3'\n",
    "pickle.dump(data_train, open(name+\"_train_RL.pkl\", \"wb\"))\n",
    "pickle.dump(data_test, open(name+\"_test_RL.pkl\", \"wb\"))"
   ]
  },
  {
   "cell_type": "code",
   "execution_count": 60,
   "id": "d628d577",
   "metadata": {},
   "outputs": [
    {
     "data": {
      "text/html": [
       "<div>\n",
       "<style scoped>\n",
       "    .dataframe tbody tr th:only-of-type {\n",
       "        vertical-align: middle;\n",
       "    }\n",
       "\n",
       "    .dataframe tbody tr th {\n",
       "        vertical-align: top;\n",
       "    }\n",
       "\n",
       "    .dataframe thead th {\n",
       "        text-align: right;\n",
       "    }\n",
       "</style>\n",
       "<table border=\"1\" class=\"dataframe\">\n",
       "  <thead>\n",
       "    <tr style=\"text-align: right;\">\n",
       "      <th></th>\n",
       "      <th>0</th>\n",
       "      <th>1</th>\n",
       "      <th>2</th>\n",
       "      <th>3</th>\n",
       "      <th>4</th>\n",
       "      <th>5</th>\n",
       "      <th>6</th>\n",
       "      <th>7</th>\n",
       "      <th>8</th>\n",
       "      <th>9</th>\n",
       "      <th>duration_time</th>\n",
       "      <th>remaining_time</th>\n",
       "      <th>class</th>\n",
       "      <th>CaseID</th>\n",
       "    </tr>\n",
       "  </thead>\n",
       "  <tbody>\n",
       "    <tr>\n",
       "      <th>0</th>\n",
       "      <td>0</td>\n",
       "      <td>1</td>\n",
       "      <td>0</td>\n",
       "      <td>0</td>\n",
       "      <td>0</td>\n",
       "      <td>0</td>\n",
       "      <td>0</td>\n",
       "      <td>0</td>\n",
       "      <td>0</td>\n",
       "      <td>0</td>\n",
       "      <td>0.000000</td>\n",
       "      <td>2.014051</td>\n",
       "      <td>1</td>\n",
       "      <td>2</td>\n",
       "    </tr>\n",
       "    <tr>\n",
       "      <th>1</th>\n",
       "      <td>0</td>\n",
       "      <td>0</td>\n",
       "      <td>0</td>\n",
       "      <td>0</td>\n",
       "      <td>0</td>\n",
       "      <td>0</td>\n",
       "      <td>0</td>\n",
       "      <td>0</td>\n",
       "      <td>1</td>\n",
       "      <td>0</td>\n",
       "      <td>0.000174</td>\n",
       "      <td>2.013877</td>\n",
       "      <td>8</td>\n",
       "      <td>2</td>\n",
       "    </tr>\n",
       "    <tr>\n",
       "      <th>2</th>\n",
       "      <td>0</td>\n",
       "      <td>0</td>\n",
       "      <td>0</td>\n",
       "      <td>0</td>\n",
       "      <td>0</td>\n",
       "      <td>0</td>\n",
       "      <td>1</td>\n",
       "      <td>0</td>\n",
       "      <td>0</td>\n",
       "      <td>0</td>\n",
       "      <td>2.013877</td>\n",
       "      <td>0.000000</td>\n",
       "      <td>6</td>\n",
       "      <td>2</td>\n",
       "    </tr>\n",
       "    <tr>\n",
       "      <th>3</th>\n",
       "      <td>0</td>\n",
       "      <td>1</td>\n",
       "      <td>0</td>\n",
       "      <td>0</td>\n",
       "      <td>0</td>\n",
       "      <td>0</td>\n",
       "      <td>0</td>\n",
       "      <td>0</td>\n",
       "      <td>0</td>\n",
       "      <td>0</td>\n",
       "      <td>0.000000</td>\n",
       "      <td>5.296655</td>\n",
       "      <td>1</td>\n",
       "      <td>3</td>\n",
       "    </tr>\n",
       "    <tr>\n",
       "      <th>4</th>\n",
       "      <td>0</td>\n",
       "      <td>0</td>\n",
       "      <td>0</td>\n",
       "      <td>0</td>\n",
       "      <td>0</td>\n",
       "      <td>0</td>\n",
       "      <td>0</td>\n",
       "      <td>0</td>\n",
       "      <td>1</td>\n",
       "      <td>0</td>\n",
       "      <td>5.293113</td>\n",
       "      <td>0.003542</td>\n",
       "      <td>8</td>\n",
       "      <td>3</td>\n",
       "    </tr>\n",
       "    <tr>\n",
       "      <th>...</th>\n",
       "      <td>...</td>\n",
       "      <td>...</td>\n",
       "      <td>...</td>\n",
       "      <td>...</td>\n",
       "      <td>...</td>\n",
       "      <td>...</td>\n",
       "      <td>...</td>\n",
       "      <td>...</td>\n",
       "      <td>...</td>\n",
       "      <td>...</td>\n",
       "      <td>...</td>\n",
       "      <td>...</td>\n",
       "      <td>...</td>\n",
       "      <td>...</td>\n",
       "    </tr>\n",
       "    <tr>\n",
       "      <th>13697</th>\n",
       "      <td>0</td>\n",
       "      <td>0</td>\n",
       "      <td>0</td>\n",
       "      <td>0</td>\n",
       "      <td>0</td>\n",
       "      <td>0</td>\n",
       "      <td>0</td>\n",
       "      <td>0</td>\n",
       "      <td>1</td>\n",
       "      <td>0</td>\n",
       "      <td>0.000220</td>\n",
       "      <td>0.049086</td>\n",
       "      <td>8</td>\n",
       "      <td>4576</td>\n",
       "    </tr>\n",
       "    <tr>\n",
       "      <th>13698</th>\n",
       "      <td>0</td>\n",
       "      <td>0</td>\n",
       "      <td>0</td>\n",
       "      <td>0</td>\n",
       "      <td>0</td>\n",
       "      <td>0</td>\n",
       "      <td>1</td>\n",
       "      <td>0</td>\n",
       "      <td>0</td>\n",
       "      <td>0</td>\n",
       "      <td>0.049086</td>\n",
       "      <td>0.000000</td>\n",
       "      <td>6</td>\n",
       "      <td>4576</td>\n",
       "    </tr>\n",
       "    <tr>\n",
       "      <th>13704</th>\n",
       "      <td>0</td>\n",
       "      <td>1</td>\n",
       "      <td>0</td>\n",
       "      <td>0</td>\n",
       "      <td>0</td>\n",
       "      <td>0</td>\n",
       "      <td>0</td>\n",
       "      <td>0</td>\n",
       "      <td>0</td>\n",
       "      <td>0</td>\n",
       "      <td>0.000000</td>\n",
       "      <td>0.145556</td>\n",
       "      <td>1</td>\n",
       "      <td>4579</td>\n",
       "    </tr>\n",
       "    <tr>\n",
       "      <th>13705</th>\n",
       "      <td>0</td>\n",
       "      <td>0</td>\n",
       "      <td>0</td>\n",
       "      <td>0</td>\n",
       "      <td>0</td>\n",
       "      <td>0</td>\n",
       "      <td>0</td>\n",
       "      <td>0</td>\n",
       "      <td>1</td>\n",
       "      <td>0</td>\n",
       "      <td>0.145417</td>\n",
       "      <td>0.000139</td>\n",
       "      <td>8</td>\n",
       "      <td>4579</td>\n",
       "    </tr>\n",
       "    <tr>\n",
       "      <th>13706</th>\n",
       "      <td>0</td>\n",
       "      <td>0</td>\n",
       "      <td>0</td>\n",
       "      <td>0</td>\n",
       "      <td>0</td>\n",
       "      <td>0</td>\n",
       "      <td>1</td>\n",
       "      <td>0</td>\n",
       "      <td>0</td>\n",
       "      <td>0</td>\n",
       "      <td>0.000139</td>\n",
       "      <td>0.000000</td>\n",
       "      <td>6</td>\n",
       "      <td>4579</td>\n",
       "    </tr>\n",
       "  </tbody>\n",
       "</table>\n",
       "<p>5744 rows × 14 columns</p>\n",
       "</div>"
      ],
      "text/plain": [
       "       0  1  2  3  4  5  6  7  8  9  duration_time  remaining_time  class  \\\n",
       "0      0  1  0  0  0  0  0  0  0  0       0.000000        2.014051      1   \n",
       "1      0  0  0  0  0  0  0  0  1  0       0.000174        2.013877      8   \n",
       "2      0  0  0  0  0  0  1  0  0  0       2.013877        0.000000      6   \n",
       "3      0  1  0  0  0  0  0  0  0  0       0.000000        5.296655      1   \n",
       "4      0  0  0  0  0  0  0  0  1  0       5.293113        0.003542      8   \n",
       "...   .. .. .. .. .. .. .. .. .. ..            ...             ...    ...   \n",
       "13697  0  0  0  0  0  0  0  0  1  0       0.000220        0.049086      8   \n",
       "13698  0  0  0  0  0  0  1  0  0  0       0.049086        0.000000      6   \n",
       "13704  0  1  0  0  0  0  0  0  0  0       0.000000        0.145556      1   \n",
       "13705  0  0  0  0  0  0  0  0  1  0       0.145417        0.000139      8   \n",
       "13706  0  0  0  0  0  0  1  0  0  0       0.000139        0.000000      6   \n",
       "\n",
       "       CaseID  \n",
       "0           2  \n",
       "1           2  \n",
       "2           2  \n",
       "3           3  \n",
       "4           3  \n",
       "...       ...  \n",
       "13697    4576  \n",
       "13698    4576  \n",
       "13704    4579  \n",
       "13705    4579  \n",
       "13706    4579  \n",
       "\n",
       "[5744 rows x 14 columns]"
      ]
     },
     "execution_count": 60,
     "metadata": {},
     "output_type": "execute_result"
    }
   ],
   "source": [
    "pd.read_pickle(name+\"_train_RL.pkl\")"
   ]
  },
  {
   "cell_type": "code",
   "execution_count": null,
   "id": "04e2344b",
   "metadata": {},
   "outputs": [],
   "source": [
    "pd.read_pickle(\"helpdesk_3_train_RL.pkl\")"
   ]
  },
  {
   "cell_type": "code",
   "execution_count": 13,
   "id": "ec8d36f6",
   "metadata": {},
   "outputs": [],
   "source": [
    "dataset = 'helpdesk'\n",
    "name = dataset+'_d2'\n",
    "df2 = pd.read_pickle('dataset/preprocessed/'+name+\"_test_RL.pkl\")\n",
    "gs_lis = [[1, 8, 6], [3, 1, 8, 6]]"
   ]
  },
  {
   "cell_type": "code",
   "execution_count": 15,
   "id": "b7bb9add",
   "metadata": {},
   "outputs": [],
   "source": [
    "cases_sat = []\n",
    "dat_group = df2.groupby(\"CaseID\")\n",
    "for name, gr in dat_group:\n",
    "    act = list(gr['class'])\n",
    "    if act in gs_lis:\n",
    "        cases_sat.append(name)"
   ]
  },
  {
   "cell_type": "code",
   "execution_count": 17,
   "id": "11ec1bc1",
   "metadata": {},
   "outputs": [
    {
     "data": {
      "text/plain": [
       "0.6797468354430379"
      ]
     },
     "execution_count": 17,
     "metadata": {},
     "output_type": "execute_result"
    }
   ],
   "source": [
    "len(cases_sat)/len(df2['CaseID'].unique())"
   ]
  },
  {
   "cell_type": "code",
   "execution_count": 12,
   "id": "8bee31bd",
   "metadata": {},
   "outputs": [],
   "source": [
    "data_filtered = df2.loc[df2['CaseID'].isin(cases_sat)]"
   ]
  },
  {
   "cell_type": "code",
   "execution_count": 18,
   "id": "54e4dfa7",
   "metadata": {},
   "outputs": [],
   "source": [
    "name = dataset+'_d2'\n",
    "pickle.dump(data_filtered, open(name+\"_test_RL_filtered.pkl\", \"wb\"))"
   ]
  }
 ],
 "metadata": {
  "kernelspec": {
   "display_name": "Python 3 (ipykernel)",
   "language": "python",
   "name": "python3"
  },
  "language_info": {
   "codemirror_mode": {
    "name": "ipython",
    "version": 3
   },
   "file_extension": ".py",
   "mimetype": "text/x-python",
   "name": "python",
   "nbconvert_exporter": "python",
   "pygments_lexer": "ipython3",
   "version": "3.7.10"
  }
 },
 "nbformat": 4,
 "nbformat_minor": 5
}
